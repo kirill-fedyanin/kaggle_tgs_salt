{
 "cells": [
  {
   "cell_type": "code",
   "execution_count": null,
   "metadata": {},
   "outputs": [],
   "source": [
    "# # setup for the colab\n",
    "# !pip install imageio\n",
    "# !pip install torch\n",
    "# !pip install kaggle\n",
    "# # upload kaggle.json for data downloading\n",
    "# from google.colab import files\n",
    "# files.upload()\n",
    "# !mkdir -p ~/.kaggle\n",
    "# !mv kaggle.json ~/.kaggle\n",
    "# !chmod 600 ~/.kaggle/kaggle.json\n",
    "# !kaggle competitions download -c tgs-salt-identification-challenge\n",
    "# !mkdir -p test\n",
    "# !mkdir -p train\n",
    "# !unzip test.zip -d test\n",
    "# !unzip train.zip -d train"
   ]
  },
  {
   "cell_type": "code",
   "execution_count": null,
   "metadata": {},
   "outputs": [],
   "source": [
    "import os\n",
    "import random\n",
    "\n",
    "import pandas as pd\n",
    "import numpy as np\n",
    "import matplotlib.pyplot as plt\n",
    "import torch\n",
    "import imageio\n",
    "from torch.utils import data"
   ]
  },
  {
   "cell_type": "code",
   "execution_count": null,
   "metadata": {},
   "outputs": [],
   "source": [
    "HEIGHT, WIDTH = 101, 101"
   ]
  },
  {
   "cell_type": "code",
   "execution_count": null,
   "metadata": {},
   "outputs": [],
   "source": [
    "class TrainDataset(data.Dataset):\n",
    "    def __init__(self, file_list, root_path):\n",
    "        self.file_list = file_list\n",
    "        self.root_path = root_path\n",
    "        \n",
    "    def __len__(self):\n",
    "        return len(self.file_list)\n",
    "    \n",
    "    def __getitem__(self, index):\n",
    "        file_id = self.file_list[index]\n",
    "        train_path = os.path.join(self.root_path, \"train\")\n",
    "        image_path = os.path.join(train_path, \"images\", file_id + '.png')\n",
    "        image = np.array(imageio.imread(image_path), dtype=np.uint8)\n",
    "        \n",
    "        mask_path = os.path.join(train_path, \"masks\", file_id + '.png')\n",
    "        mask = np.array(imageio.imread(mask_path), dtype=np.uint8)\n",
    "        return image, mask"
   ]
  },
  {
   "cell_type": "code",
   "execution_count": null,
   "metadata": {},
   "outputs": [],
   "source": [
    "train_masks = pd.read_csv('train.csv')\n",
    "file_list = list(train_masks['id'])\n",
    "# read the list of files and print them with map\n",
    "# compare train mask with mask images from set\n",
    "\n",
    "dataset = TrainDataset(file_list, './')"
   ]
  },
  {
   "cell_type": "code",
   "execution_count": null,
   "metadata": {},
   "outputs": [],
   "source": [
    "for i in range(5):\n",
    "    image, mask = dataset[random.randint(0, len(dataset)-1)]\n",
    "    f, axarr = plt.subplots(1, 2)\n",
    "    axarr[0].imshow(image)\n",
    "    axarr[1].imshow(mask, cmap='gray')\n",
    "    "
   ]
  },
  {
   "cell_type": "code",
   "execution_count": null,
   "metadata": {},
   "outputs": [],
   "source": []
  }
 ],
 "metadata": {
  "kernelspec": {
   "display_name": "Python 3",
   "language": "python",
   "name": "python3"
  },
  "language_info": {
   "codemirror_mode": {
    "name": "ipython",
    "version": 3
   },
   "file_extension": ".py",
   "mimetype": "text/x-python",
   "name": "python",
   "nbconvert_exporter": "python",
   "pygments_lexer": "ipython3",
   "version": "3.6.8"
  }
 },
 "nbformat": 4,
 "nbformat_minor": 2
}
