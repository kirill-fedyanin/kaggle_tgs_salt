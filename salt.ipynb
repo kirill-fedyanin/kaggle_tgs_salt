{
 "cells": [
  {
   "cell_type": "code",
   "execution_count": null,
   "metadata": {},
   "outputs": [],
   "source": [
    "# # setup for the colab\n",
    "# !pip install imageio\n",
    "# !pip install torch\n",
    "# !pip install kaggle\n",
    "# # upload kaggle.json for data downloading\n",
    "# from google.colab import files\n",
    "# files.upload()\n",
    "# !mkdir -p ~/.kaggle\n",
    "# !mv kaggle.json ~/.kaggle\n",
    "# !chmod 600 ~/.kaggle/kaggle.json\n",
    "# !kaggle competitions download -c tgs-salt-identification-challenge\n",
    "# !mkdir -p test\n",
    "# !mkdir -p train\n",
    "# !unzip test.zip -d test\n",
    "# !unzip train.zip -d train"
   ]
  },
  {
   "cell_type": "code",
   "execution_count": null,
   "metadata": {},
   "outputs": [],
   "source": [
    "import os\n",
    "import random\n",
    "\n",
    "import pandas as pd\n",
    "import numpy as np\n",
    "import matplotlib.pyplot as plt\n",
    "import torch\n",
    "import imageio\n",
    "from torch.utils import data"
   ]
  },
  {
   "cell_type": "code",
   "execution_count": null,
   "metadata": {},
   "outputs": [],
   "source": [
    "HEIGHT, WIDTH = 101, 101"
   ]
  },
  {
   "cell_type": "code",
   "execution_count": null,
   "metadata": {},
   "outputs": [],
   "source": [
    "class TrainDataset(data.Dataset):\n",
    "    def __init__(self, file_list, root_path):\n",
    "        self.file_list = file_list\n",
    "        self.root_path = root_path\n",
    "        \n",
    "    def __len__(self):\n",
    "        return len(self.file_list)\n",
    "    \n",
    "    def __getitem__(self, index):\n",
    "        file_id = self.file_list[index]\n",
    "        train_path = os.path.join(self.root_path, \"train\")\n",
    "        image_path = os.path.join(train_path, \"images\", file_id + '.png')\n",
    "        image = np.array(imageio.imread(image_path), dtype=np.uint8)\n",
    "        \n",
    "        mask_path = os.path.join(train_path, \"masks\", file_id + '.png')\n",
    "        mask = np.array(imageio.imread(mask_path), dtype=np.uint8)\n",
    "        return image, mask"
   ]
  },
  {
   "cell_type": "code",
   "execution_count": null,
   "metadata": {},
   "outputs": [],
   "source": [
    "train_values = pd.read_csv('train.csv')\n",
    "file_list = list(train_values['id'])\n",
    "\n",
    "dataset = TrainDataset(file_list, './')"
   ]
  },
  {
   "cell_type": "code",
   "execution_count": null,
   "metadata": {},
   "outputs": [],
   "source": [
    "def rle_to_mask(rle_string):\n",
    "    if isinstance(rle_string, float) and np.isnan(rle_string):\n",
    "        return np.zeros((HEIGHT, WIDTH)) \n",
    "    rle_numbers = [int(num) for num in rle_string.split()] \n",
    "    rle_pairs = np.array(rle_numbers).reshape((-1, 2))\n",
    "    \n",
    "    mask = np.zeros(HEIGHT*WIDTH)\n",
    "    for start, length in rle_pairs:\n",
    "        mask[start-1: start-1+length] = 255\n",
    "    \n",
    "    mask = mask.reshape((HEIGHT, WIDTH)).T\n",
    "        \n",
    "    return mask\n"
   ]
  },
  {
   "cell_type": "code",
   "execution_count": null,
   "metadata": {},
   "outputs": [],
   "source": [
    "# check if masks correctly oriented\n",
    "for _ in range(15):\n",
    "    i = random.randint(0, len(dataset)-1) \n",
    "    image, mask = dataset[i]\n",
    "    f, axarr = plt.subplots(1, 3)\n",
    "    axarr[0].imshow(image)\n",
    "    axarr[1].imshow(mask, cmap='gray')\n",
    "    axarr[2].imshow(rle_to_mask(train_values['rle_mask'][i]), cmap='gray')\n",
    "    print(i, 'is correct: ', (mask==rle_to_mask(train_values['rle_mask'][i])).all())\n",
    "    "
   ]
  },
  {
   "cell_type": "code",
   "execution_count": null,
   "metadata": {},
   "outputs": [],
   "source": [
    "# what's next?\n",
    "# make some statistics:\n",
    "# how salty on average?\n",
    "# add depths\n",
    "# what is correlation between depths\n",
    "# what is usual depths\n",
    "# salt-concetration correlation?\n",
    "pixels = float(HEIGHT*WIDTH)\n",
    "depths = pd.read_csv(\"depths.csv\")\n",
    "\n",
    "train_values['depths'] = depths['z']\n",
    "\n",
    "plt.figure(figsize=(6, 6))\n",
    "plt.hist(train_values['depths'], bins=50)\n"
   ]
  },
  {
   "cell_type": "code",
   "execution_count": null,
   "metadata": {},
   "outputs": [],
   "source": [
    "norm = HEIGHT * WIDTH * 255.0\n",
    "def salt_concentration(mask):\n",
    "    return np.sum(mask)/norm\n",
    "\n",
    "train_values['salt_concentration'] = [salt_concentration(mask) for _, mask in dataset]"
   ]
  },
  {
   "cell_type": "code",
   "execution_count": null,
   "metadata": {},
   "outputs": [],
   "source": [
    "depths[:5]\n",
    "train_values[:5]\n",
    "train_all_values = train_values.merge(depths, how='left')"
   ]
  },
  {
   "cell_type": "code",
   "execution_count": 215,
   "metadata": {},
   "outputs": [
    {
     "name": "stdout",
     "output_type": "stream",
     "text": [
      "           id                                           rle_mask  depths  \\\n",
      "0  575d24d81d                                                NaN     306   \n",
      "1  a266a2a9df                                          5051 5151     157   \n",
      "2  75efad62c1  9 93 109 94 210 94 310 95 411 95 511 96 612 96...     305   \n",
      "3  34e51dba6a  48 54 149 54 251 53 353 52 455 51 557 50 659 4...     503   \n",
      "4  4875705fb0  1111 1 1212 1 1313 1 1414 1 1514 2 1615 2 1716...     783   \n",
      "\n",
      "   salt_concentration    z  \n",
      "0            0.000000  843  \n",
      "1            0.504950  794  \n",
      "2            0.993334  468  \n",
      "3            0.149201  727  \n",
      "4            0.042839  797  \n",
      "['575d24d81d', 'a266a2a9df', '75efad62c1', '34e51dba6a', '4875705fb0']\n"
     ]
    }
   ],
   "source": [
    "print(train_all_values[:5])\n",
    "print(file_list[:5dd])"
   ]
  }
 ],
 "metadata": {
  "kernelspec": {
   "display_name": "Python 3",
   "language": "python",
   "name": "python3"
  },
  "language_info": {
   "codemirror_mode": {
    "name": "ipython",
    "version": 3
   },
   "file_extension": ".py",
   "mimetype": "text/x-python",
   "name": "python",
   "nbconvert_exporter": "python",
   "pygments_lexer": "ipython3",
   "version": "3.6.8"
  }
 },
 "nbformat": 4,
 "nbformat_minor": 2
}
